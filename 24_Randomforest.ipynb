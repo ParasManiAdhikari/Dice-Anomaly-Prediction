{
 "cells": [
  {
   "cell_type": "code",
   "execution_count": 1,
   "metadata": {},
   "outputs": [],
   "source": [
    "import sqlite3\n",
    "import pandas as pd\n",
    "from sklearn.model_selection import train_test_split\n",
    "from sklearn.preprocessing import LabelEncoder\n",
    "\n",
    "\n",
    "# Connect to the SQLite database\n",
    "conn = sqlite3.connect('Cleaned_DB.db')\n",
    "cursor = conn.cursor()\n",
    "\n",
    "# Load data into DataFrame\n",
    "cursor.execute(\"SELECT * FROM mockdata\")\n",
    "rows = cursor.fetchall()\n",
    "columns = ['n', 'timestamp', 'ax', 'ay', 'az', 'gx', 'gy', 'gz', 'label']\n",
    "df = pd.DataFrame(rows, columns=columns)\n",
    "conn.close()\n",
    "\n",
    "# Preprocessing\n",
    "label_encoder = LabelEncoder()\n",
    "df['label'] = label_encoder.fit_transform(df['label'])\n",
    "\n",
    "# Split data into features (X) and labels (y)\n",
    "X = df[['ax', 'ay', 'az', 'gx', 'gy', 'gz']]\n",
    "y = df['label']\n",
    "\n",
    "# Split data into training and validation sets\n",
    "X_train, X_val, y_train, y_val = train_test_split(X, y, test_size=0.2, random_state=42)"
   ]
  },
  {
   "cell_type": "code",
   "execution_count": 2,
   "metadata": {},
   "outputs": [
    {
     "name": "stdout",
     "output_type": "stream",
     "text": [
      "Random Forest Accuracy: 0.92\n",
      "Feature Importances:\n",
      "    importance\n",
      "ay    0.210924\n",
      "az    0.201480\n",
      "ax    0.194342\n",
      "gy    0.132461\n",
      "gz    0.132218\n",
      "gx    0.128575\n"
     ]
    }
   ],
   "source": [
    "from sklearn.ensemble import RandomForestClassifier\n",
    "from sklearn.metrics import accuracy_score\n",
    "import joblib\n",
    "\n",
    "# Define and train the RandomForestClassifier\n",
    "rf_model = RandomForestClassifier(n_estimators=100, random_state=42)\n",
    "rf_model.fit(X_train, y_train)\n",
    "\n",
    "# Predict and evaluate the model\n",
    "y_pred = rf_model.predict(X_val)\n",
    "accuracy = accuracy_score(y_val, y_pred)\n",
    "print(f'Random Forest Accuracy: {accuracy:.2f}')\n",
    "#joblib.dump(rf_model, 'rf_model.joblib')\n",
    "\n",
    "feature_importances = pd.DataFrame(rf_model.feature_importances_,\n",
    "                                   index = X_train.columns,\n",
    "                                   columns=['importance']).sort_values('importance', ascending=False)\n",
    "print(\"Feature Importances:\")\n",
    "print(feature_importances)"
   ]
  },
  {
   "cell_type": "code",
   "execution_count": 3,
   "metadata": {},
   "outputs": [
    {
     "name": "stdout",
     "output_type": "stream",
     "text": [
      "normal [1]\n",
      "anomalie [0]\n"
     ]
    },
    {
     "name": "stderr",
     "output_type": "stream",
     "text": [
      "C:\\Users\\paras\\AppData\\Local\\Packages\\PythonSoftwareFoundation.Python.3.11_qbz5n2kfra8p0\\LocalCache\\local-packages\\Python311\\site-packages\\sklearn\\base.py:493: UserWarning: X does not have valid feature names, but RandomForestClassifier was fitted with feature names\n",
      "  warnings.warn(\n",
      "C:\\Users\\paras\\AppData\\Local\\Packages\\PythonSoftwareFoundation.Python.3.11_qbz5n2kfra8p0\\LocalCache\\local-packages\\Python311\\site-packages\\sklearn\\base.py:493: UserWarning: X does not have valid feature names, but RandomForestClassifier was fitted with feature names\n",
      "  warnings.warn(\n"
     ]
    }
   ],
   "source": [
    "import joblib\n",
    "\n",
    "import pandas as pd\n",
    "\n",
    "n_data = {\n",
    "    'ax': [-0.304688],\n",
    "    'ay': [0.424316],\n",
    "    'az': [-0.908691],\n",
    "    'gx': [-6.793893],\n",
    "    'gy': [-0.725191],\n",
    "    'gz': [0.618321]\n",
    "}\n",
    "a_data = {\n",
    "    'ax': [0.851563],\n",
    "    'ay': [0.544434],\n",
    "    'az': [0.144287],\n",
    "    'gx': [-6.763359],\n",
    "    'gy': [-1.083969],\n",
    "    'gz': [-2.129771]\n",
    "}\n",
    "\n",
    "loaded_knn_clf = joblib.load('rf_model.joblib')\n",
    "\n",
    "n_df = pd.DataFrame(n_data)\n",
    "a_df = pd.DataFrame(a_data)\n",
    "\n",
    "# Predict using the loaded model\n",
    "n_pred = loaded_knn_clf.predict(n_df.values)\n",
    "a_pred = loaded_knn_clf.predict(a_df.values)\n",
    "\n",
    "print(\"normal\", n_pred)\n",
    "print(\"anomalie\", a_pred)"
   ]
  },
  {
   "cell_type": "code",
   "execution_count": 4,
   "metadata": {},
   "outputs": [
    {
     "name": "stdout",
     "output_type": "stream",
     "text": [
      "[0 0 0 0 0 0 0 0 0 0 0 0 0 0 0 0 0 0 0 0 0 0 0 0 0 0 0 0 0 0 0 0 0 0 0 0 0\n",
      " 0 0 0 0 0 0 0 0 0 0 0 0 0]\n"
     ]
    },
    {
     "name": "stderr",
     "output_type": "stream",
     "text": [
      "C:\\Users\\paras\\AppData\\Local\\Packages\\PythonSoftwareFoundation.Python.3.11_qbz5n2kfra8p0\\LocalCache\\local-packages\\Python311\\site-packages\\sklearn\\base.py:493: UserWarning: X does not have valid feature names, but RandomForestClassifier was fitted with feature names\n",
      "  warnings.warn(\n"
     ]
    }
   ],
   "source": [
    "import joblib\n",
    "import pandas as pd\n",
    "import sqlite3\n",
    "\n",
    "conn = sqlite3.connect('Cleaned_DB.db')\n",
    "query_anomalie = \"SELECT ax, ay, az, gx, gy, gz FROM mockdata WHERE label = 'anomalie' LIMIT 50\"\n",
    "df_anomalie = pd.read_sql_query(query_anomalie, conn)\n",
    "conn.close()\n",
    "\n",
    "loaded_knn_clf = joblib.load('rf_model.joblib')\n",
    "anomalie_pred = loaded_knn_clf.predict(df_anomalie.values)\n",
    "print(anomalie_pred)"
   ]
  }
 ],
 "metadata": {
  "kernelspec": {
   "display_name": "Python 3",
   "language": "python",
   "name": "python3"
  },
  "language_info": {
   "codemirror_mode": {
    "name": "ipython",
    "version": 3
   },
   "file_extension": ".py",
   "mimetype": "text/x-python",
   "name": "python",
   "nbconvert_exporter": "python",
   "pygments_lexer": "ipython3",
   "version": "3.11.9"
  }
 },
 "nbformat": 4,
 "nbformat_minor": 2
}
