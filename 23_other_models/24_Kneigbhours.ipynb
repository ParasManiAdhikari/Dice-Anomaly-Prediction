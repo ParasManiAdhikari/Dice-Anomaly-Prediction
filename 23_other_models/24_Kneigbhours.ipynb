{
 "cells": [
  {
   "cell_type": "code",
   "execution_count": 9,
   "metadata": {},
   "outputs": [
    {
     "name": "stdout",
     "output_type": "stream",
     "text": [
      "Accuracy: 0.7394781144781145\n"
     ]
    },
    {
     "data": {
      "text/plain": [
       "['knn_model.joblib']"
      ]
     },
     "execution_count": 9,
     "metadata": {},
     "output_type": "execute_result"
    }
   ],
   "source": [
    "import sqlite3\n",
    "import pandas as pd\n",
    "from sktime.classification.distance_based import KNeighborsTimeSeriesClassifier\n",
    "from sklearn.model_selection import train_test_split\n",
    "from sklearn.preprocessing import LabelEncoder\n",
    "from sklearn.metrics import accuracy_score\n",
    "import joblib\n",
    "\n",
    "# Step 1: Read Data from SQLite3 Table\n",
    "conn = sqlite3.connect('Cleaned_DB.db')\n",
    "query = \"SELECT ax, ay, az, gx, gy, gz, label FROM mockdata\"\n",
    "df = pd.read_sql_query(query, conn)\n",
    "conn.close()\n",
    "\n",
    "# Step 2: Preprocess the Data\n",
    "X = df[['ax', 'ay', 'az', 'gx', 'gy', 'gz']].values\n",
    "y = df['label'].values\n",
    "\n",
    "# Encode normal as 1 and anomalie as 0\n",
    "le = LabelEncoder()\n",
    "y_encoded = le.fit_transform(y)\n",
    "\n",
    "# Split the data into training and testing sets\n",
    "X_trainn, X_testt, y_trainn, y_testt = train_test_split(X, y_encoded, test_size=0.2, random_state=42)\n",
    "\n",
    "# Step 3: Train the Model\n",
    "knn_clf = KNeighborsTimeSeriesClassifier()\n",
    "knn_clf.fit(X_trainn, y_trainn)\n",
    "\n",
    "# Step 4: Evaluate the Model (Optional)\n",
    "y_pred = knn_clf.predict(X_testt)\n",
    "print(\"Accuracy:\", accuracy_score(y_testt, y_pred))\n",
    "\n",
    "joblib.dump(knn_clf, 'knn_model.joblib')"
   ]
  },
  {
   "cell_type": "code",
   "execution_count": 20,
   "metadata": {},
   "outputs": [
    {
     "name": "stdout",
     "output_type": "stream",
     "text": [
      "normal [1]\n",
      "anomalie [0]\n"
     ]
    }
   ],
   "source": [
    "import joblib\n",
    "import pandas as pd\n",
    "\n",
    "n_data = {\n",
    "    'ax': [-0.304688],\n",
    "    'ay': [0.424316],\n",
    "    'az': [-0.908691],\n",
    "    'gx': [-6.793893],\n",
    "    'gy': [-0.725191],\n",
    "    'gz': [0.618321]\n",
    "}\n",
    "a_data = {\n",
    "    'ax': [0.851563],\n",
    "    'ay': [0.544434],\n",
    "    'az': [0.144287],\n",
    "    'gx': [-6.763359],\n",
    "    'gy': [-1.083969],\n",
    "    'gz': [-2.129771]\n",
    "}\n",
    "\n",
    "loaded_knn_clf = joblib.load('knn_model.joblib')\n",
    "\n",
    "n_df = pd.DataFrame(n_data)\n",
    "a_df = pd.DataFrame(a_data)\n",
    "\n",
    "# Predict using the loaded model\n",
    "n_pred = loaded_knn_clf.predict(n_df.values)\n",
    "a_pred = loaded_knn_clf.predict(a_df.values)\n",
    "\n",
    "print(\"normal\", n_pred)\n",
    "print(\"anomalie\", a_pred)"
   ]
  },
  {
   "cell_type": "code",
   "execution_count": 21,
   "metadata": {},
   "outputs": [
    {
     "name": "stdout",
     "output_type": "stream",
     "text": [
      "[0 0 0 0 0 0 0 0 0 0 0 0 0 0 0 0 1 0 0 0 0 0 0 0 0 0 0 0 0 0 0 0 0 0 0 0 0\n",
      " 0 0 0 0 0 0 0 0 0 0 0 0 0]\n"
     ]
    }
   ],
   "source": [
    "import joblib\n",
    "import pandas as pd\n",
    "import sqlite3\n",
    "\n",
    "conn = sqlite3.connect('Cleaned_DB.db')\n",
    "query_anomalie = \"SELECT ax, ay, az, gx, gy, gz FROM mockdata WHERE label = 'anomalie' LIMIT 50\"\n",
    "df_anomalie = pd.read_sql_query(query_anomalie, conn)\n",
    "conn.close()\n",
    "\n",
    "loaded_knn_clf = joblib.load('knn_model.joblib')\n",
    "anomalie_pred = loaded_knn_clf.predict(df_anomalie.values)\n",
    "print(anomalie_pred)"
   ]
  }
 ],
 "metadata": {
  "kernelspec": {
   "display_name": "Python 3",
   "language": "python",
   "name": "python3"
  },
  "language_info": {
   "codemirror_mode": {
    "name": "ipython",
    "version": 3
   },
   "file_extension": ".py",
   "mimetype": "text/x-python",
   "name": "python",
   "nbconvert_exporter": "python",
   "pygments_lexer": "ipython3",
   "version": "3.11.9"
  }
 },
 "nbformat": 4,
 "nbformat_minor": 2
}
